{
 "cells": [
  {
   "cell_type": "code",
   "execution_count": 2,
   "id": "2870ef69",
   "metadata": {},
   "outputs": [],
   "source": [
    "from fastai.vision.all import *\n",
    "from fastbook import *\n",
    "import pandas as pd\n",
    "\n",
    "class SimpleNN(nn.Module):\n",
    "    def __init__(self, input_size, hidden_size1, output_size):\n",
    "        super(SimpleNN, self).__init__()\n",
    "        self.linear1 = nn.Linear(input_size, hidden_size1)\n",
    "        self.ReLU = nn.ReLU()\n",
    "        self.linear2 = nn.Linear(hidden_size1,output_size)\n",
    "        \n",
    "    def forward(self, x):\n",
    "        x = self.linear1(x)\n",
    "        x = self.ReLU(x)\n",
    "        x = self.linear2(x)\n",
    "        return x\n",
    "\n",
    "def validate_epoch(model, valid_dl):\n",
    "        accs = [batch_accuracy(model(x),y) for x,y in valid_dl]\n",
    "        return round(torch.stack(accs).mean().item(), 4)\n",
    "    \n",
    "def batch_accuracy(x, y):\n",
    "        preds = softmax(x)\n",
    "        predicted_value = torch.argmax(preds, dim=1)\n",
    "        trgts = y.flatten()\n",
    "        bools = predicted_value == trgts\n",
    "        acc = bools.to(torch.float).mean()\n",
    "        return acc\n",
    "\n",
    "def softmax(preds):\n",
    "    preds = preds-torch.max(preds)\n",
    "    return torch.exp(preds)/torch.sum(torch.exp(preds), dim=1).unsqueeze(1)\n",
    "\n",
    "def cross_entropy_loss(preds, trgt):\n",
    "        soft = softmax(preds)\n",
    "        one_hot = torch.zeros(trgt.shape[0], soft.shape[1])\n",
    "        for i in range(one_hot.size(0)):\n",
    "            index = trgt[i, 0].item()\n",
    "            one_hot[i, int(index)] = 1\n",
    "        loss = -torch.sum(torch.log(soft)*one_hot)\n",
    "        return loss\n",
    "\n",
    "def stacker(df):\n",
    "    image_list = [torch.tensor(df.iloc[img].values) for img in range(len(df))]\n",
    "    stacked = torch.stack(image_list).float()/255\n",
    "    return stacked\n",
    "\n",
    "def loader(data, labels):\n",
    "    zipped_data = list(zip(torch.cat(data).view(-1, 28*28),tensor(labels).unsqueeze(1)))\n",
    "    return DataLoader(zipped_data, batch_size=256, shuffle=True)\n",
    "\n",
    "def imgs(train, test):\n",
    "\n",
    "    testing = [stacker(test[test[\"label\"] == i].iloc[:, 1:785]) for i in range(10)]\n",
    "    validation = [stacker(train[train[\"label\"] == i].iloc[0:(round(len(train[train[\"label\"] == i])*.2)+1),1:785].reset_index().drop(labels =\"index\", axis=1)) for i in range(10)]\n",
    "    training = [stacker(train[train[\"label\"] == i].iloc[round(len(train[train[\"label\"] == i])*.2)+1:,1:785].reset_index().drop(labels =\"index\", axis=1)) for i in range(10)]\n",
    "\n",
    "    testing_labels = sum([[i]*len(testing[i]) for i in range(10)],[])\n",
    "    training_labels = sum([[i]*len(training[i]) for i in range(10)],[])\n",
    "    validation_labels = sum([[i]*len(validation[i]) for i in range(10)],[])\n",
    "    return loader(testing, testing_labels), loader(validation, validation_labels), loader(training, training_labels)\n",
    "\n",
    "\n",
    "\n",
    "#testing, training, validation = imgs(train, test)"
   ]
  },
  {
   "cell_type": "code",
   "execution_count": 4,
   "id": "d2dda658",
   "metadata": {},
   "outputs": [],
   "source": [
    "## Creating a benchmark\n",
    "train = pd.read_csv(\"/Users/koto/build/fast/MNIST/mnist_train.csv\")\n",
    "test = pd.read_csv(\"/Users/koto/build/fast/MNIST/mnist_test.csv\")\n",
    "def stacker(df):\n",
    "    image_list = [torch.tensor(df.iloc[img].values) for img in range(len(df))]\n",
    "    stacked = torch.stack(image_list).float()/255\n",
    "    return stacked\n",
    "testing = [stacker(test[test[\"label\"] == i].iloc[:, 1:785]) for i in range(10)]\n",
    "validation = [stacker(train[train[\"label\"] == i].iloc[0:(round(len(train[train[\"label\"] == i])*.2)+1),1:785].reset_index().drop(labels =\"index\", axis=1)) for i in range(10)]\n",
    "training = [stacker(train[train[\"label\"] == i].iloc[round(len(train[train[\"label\"] == i])*.2)+1:,1:785].reset_index().drop(labels =\"index\", axis=1)) for i in range(10)]"
   ]
  },
  {
   "cell_type": "code",
   "execution_count": 7,
   "id": "0a63c730",
   "metadata": {},
   "outputs": [
    {
     "data": {
      "text/plain": [
       "0.6424992471933365"
      ]
     },
     "execution_count": 7,
     "metadata": {},
     "output_type": "execute_result"
    }
   ],
   "source": [
    "avg_imgs = [training[i].mean(dim=0)for i in range(10)]\n",
    "avg_imgs_tensor = torch.stack(avg_imgs)  # Shape: [10, feature_dim]\n",
    "\n",
    "accuracy_vals = []\n",
    "\n",
    "for j in range(10):\n",
    "    # Extract all test images for class j\n",
    "    validation_images = validation[j]  # Shape: [num_samples, feature_dim]\n",
    "\n",
    "    # Compute absolute difference using broadcasting\n",
    "    # The shape of diffs will be [num_samples, 10, feature_dim]\n",
    "    diffs = (validation_images[:, None, :] - avg_imgs_tensor[None, :, :]).abs()\n",
    "\n",
    "    # Calculate the mean difference for each test image against each class average\n",
    "    mean_diffs = diffs.mean(dim=2)  # Shape: [num_samples, 10]\n",
    "\n",
    "    # Find the class with the smallest mean difference for each test image\n",
    "    preds = mean_diffs.argmin(dim=1)  # Shape: [num_samples]\n",
    "\n",
    "    # Calculate accuracy for class j\n",
    "    correct_preds = (preds == j).float()  # Shape: [num_samples]\n",
    "    accuracy = correct_preds.mean().item()  # Scalar value\n",
    "\n",
    "    accuracy_vals.append(accuracy)\n",
    "\n",
    "# Calculate the overall accuracy\n",
    "benchmark_accuracy = sum(accuracy_vals) / len(accuracy_vals)\n",
    "\n",
    "benchmark_accuracy"
   ]
  },
  {
   "cell_type": "code",
   "execution_count": 6,
   "id": "07ec594b",
   "metadata": {
    "scrolled": true
   },
   "outputs": [
    {
     "data": {
      "image/png": "[encoded data removed]",
      "text/plain": [
       "<Figure size 2000x200 with 10 Axes>"
      ]
     },
     "metadata": {},
     "output_type": "display_data"
    }
   ],
   "source": [
    "import matplotlib.pyplot as plt\n",
    "displ_avg_imgs = [testing[i].mean(dim=0).numpy().reshape(1,28,28) for i in range(10)]\n",
    "fig, axes = plt.subplots(1, 10, figsize=(20, 2))\n",
    "for i, img in enumerate(avg_imgs):\n",
    "    ax = axes[i]\n",
    "    # Since the image is stored as [28, 28, 1], we squeeze it to [28, 28] for display\n",
    "    ax.imshow(img.reshape(1,28,28).squeeze(), cmap='gray')  # Use cmap='gray' for grayscale images\n",
    "    ax.axis('off')  # Turn off axis to only show the image\n",
    "\n",
    "plt.show()\n"
   ]
  },
  {
   "cell_type": "code",
   "execution_count": 11,
   "id": "55cf2b01",
   "metadata": {},
   "outputs": [],
   "source": [
    "epochs = 1000\n",
    "lr = 0.0001\n",
    "model = SimpleNN(28*28, 30, 10)\n",
    "\n",
    "opt = SGD(model.parameters(), lr)"
   ]
  },
  {
   "cell_type": "code",
   "execution_count": 12,
   "id": "1bab5285",
   "metadata": {},
   "outputs": [
    {
     "name": "stdout",
     "output_type": "stream",
     "text": [
      "Loss: 5.380589008331299 \n",
      " model accuracy: 96%\n"
     ]
    }
   ],
   "source": [
    "from IPython.display import display, clear_output\n",
    "\n",
    "for i in range(epochs):\n",
    "    for x,y in training_data:\n",
    "        preds = model(x)\n",
    "        loss = cross_entropy_loss(preds, y)\n",
    "        loss.backward()\n",
    "        for param in model.parameters():\n",
    "            param.data -= lr*param.grad.data\n",
    "            param.grad = None\n",
    "    if loss < 1.5:\n",
    "        break\n",
    "    acc = torch.stack([batch_accuracy(softmax(model(x)), y) for x,y in validation_data]).mean()\n",
    "    clear_output(wait=True)  \n",
    "    print(f\"Loss: {loss} \\n model accuracy: {acc*100:.0f}%\")\n",
    "    time.sleep(.01)"
   ]
  },
  {
   "cell_type": "code",
   "execution_count": null,
   "id": "138b34ef",
   "metadata": {},
   "outputs": [],
   "source": []
  }
 ],
 "metadata": {
  "kernelspec": {
   "display_name": "Python 3 (ipykernel)",
   "language": "python",
   "name": "python3"
  },
  "language_info": {
   "codemirror_mode": {
    "name": "ipython",
    "version": 3
   },
   "file_extension": ".py",
   "mimetype": "text/x-python",
   "name": "python",
   "nbconvert_exporter": "python",
   "pygments_lexer": "ipython3",
   "version": "3.11.7"
  },
  "toc": {
   "base_numbering": 1,
   "nav_menu": {},
   "number_sections": true,
   "sideBar": true,
   "skip_h1_title": false,
   "title_cell": "Table of Contents",
   "title_sidebar": "Contents",
   "toc_cell": false,
   "toc_position": {},
   "toc_section_display": true,
   "toc_window_display": false
  }
 },
 "nbformat": 4,
 "nbformat_minor": 5
}
