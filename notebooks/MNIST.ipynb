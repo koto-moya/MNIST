{
 "cells": [
  {
   "cell_type": "code",
   "execution_count": 2,
   "id": "0e410dca",
   "metadata": {},
   "outputs": [],
   "source": [
    "from fastai.vision.all import *\n",
    "from fastbook import *\n",
    "\n",
    "matplotlib.rc('image', cmap='Greys')\n",
    "\n",
    "pd.set_option('display.max_columns', None)\n",
    "pd.set_option('display.max_rows', None)"
   ]
  },
  {
   "cell_type": "code",
   "execution_count": 3,
   "id": "8afff1de",
   "metadata": {},
   "outputs": [],
   "source": [
    "path = untar_data(URLs.MNIST_SAMPLE)"
   ]
  },
  {
   "cell_type": "code",
   "execution_count": 3,
   "id": "bcbc62a1",
   "metadata": {},
   "outputs": [
    {
     "data": {
      "text/plain": [
       "(#3) [Path('C:/Users/jpadilla/.fastai/data/mnist_sample/labels.csv'),Path('C:/Users/jpadilla/.fastai/data/mnist_sample/train'),Path('C:/Users/jpadilla/.fastai/data/mnist_sample/valid')]"
      ]
     },
     "execution_count": 3,
     "metadata": {},
     "output_type": "execute_result"
    }
   ],
   "source": [
    "path.ls()"
   ]
  },
  {
   "cell_type": "code",
   "execution_count": 4,
   "id": "815fe383",
   "metadata": {},
   "outputs": [
    {
     "data": {
      "text/plain": [
       "(#2) [Path('C:/Users/jpadilla/.fastai/data/mnist_sample/train/3'),Path('C:/Users/jpadilla/.fastai/data/mnist_sample/train/7')]"
      ]
     },
     "execution_count": 4,
     "metadata": {},
     "output_type": "execute_result"
    }
   ],
   "source": [
    "(path/'train').ls()"
   ]
  },
  {
   "cell_type": "markdown",
   "id": "ccfdd533",
   "metadata": {},
   "source": [
    "## 3 & 7 classifier\n",
    "\n",
    "Want to build a model form scratach that recognizes the difference between 3's and 7's"
   ]
  },
  {
   "cell_type": "code",
   "execution_count": 4,
   "id": "052a0869",
   "metadata": {},
   "outputs": [
    {
     "data": {
      "image/png": "[encoded data removed]",
      "text/plain": [
       "<PIL.PngImagePlugin.PngImageFile image mode=L size=28x28>"
      ]
     },
     "execution_count": 4,
     "metadata": {},
     "output_type": "execute_result"
    }
   ],
   "source": [
    "threes = (path/'train'/'3').ls().sorted()\n",
    "sevens = (path/'train'/'7').ls().sorted()\n",
    "img7_path = sevens[1]\n",
    "img7 = Image.open(img7_path)\n",
    "img7"
   ]
  },
  {
   "cell_type": "code",
   "execution_count": 5,
   "id": "8bdbb15e",
   "metadata": {},
   "outputs": [],
   "source": [
    "# Load the images into tensors\n",
    "\n",
    "tens_img7 = tensor(img7)\n",
    "\n",
    "# Can visualize it a little better\n",
    "\n",
    "df = pd.DataFrame(tens_img7)"
   ]
  },
  {
   "cell_type": "code",
   "execution_count": 9,
   "id": "37be851b",
   "metadata": {},
   "outputs": [],
   "source": [
    "#df.style.set_properties(**{'font-size':'6pt'}).background_gradient('Greys')"
   ]
  },
  {
   "cell_type": "code",
   "execution_count": 6,
   "id": "1beddd84",
   "metadata": {},
   "outputs": [],
   "source": [
    "# Establishing a baseline: Take the average pixel values of each number. \n",
    "\n",
    "# Grab all images\n",
    "all_threes = [tensor(Image.open(three)) for three in threes]\n",
    "all_seven = [tensor(Image.open(seven)) for seven in sevens]"
   ]
  },
  {
   "cell_type": "code",
   "execution_count": 7,
   "id": "83a901c4",
   "metadata": {},
   "outputs": [],
   "source": [
    "# stack the tensors\n",
    "stacked_threes = torch.stack(all_threes).float()/255 # unsure why we divided here: Want all values closer to 1\n",
    "stacked_seven = torch.stack(all_seven).float()/255"
   ]
  },
  {
   "cell_type": "code",
   "execution_count": 9,
   "id": "f94dc326",
   "metadata": {},
   "outputs": [
    {
     "data": {
      "text/plain": [
       "torch.Size([28, 28])"
      ]
     },
     "execution_count": 9,
     "metadata": {},
     "output_type": "execute_result"
    }
   ],
   "source": [
    "def rmse(comp, ground):\n",
    "    return ((comp - ground)**2).mean().sqrt()\n",
    "def abse(comp, ground):\n",
    "    return (comp - ground).abs().mean((-1,-2))\n",
    "\n",
    "\n",
    "mean3 = stacked_threes.mean(0)\n",
    "mean7 = stacked_seven.mean(0)\n",
    "mean7.shape"
   ]
  },
  {
   "cell_type": "code",
   "execution_count": 11,
   "id": "33d3abad",
   "metadata": {},
   "outputs": [
    {
     "data": {
      "text/plain": [
       "torch.Size([28, 28])"
      ]
     },
     "execution_count": 11,
     "metadata": {},
     "output_type": "execute_result"
    }
   ],
   "source": [
    "test_3 = stacked_threes[1]\n",
    "test_7 = stacked_seven[1]\n",
    "test_7.shape"
   ]
  },
  {
   "cell_type": "code",
   "execution_count": 9,
   "id": "b246db63",
   "metadata": {},
   "outputs": [
    {
     "name": "stdout",
     "output_type": "stream",
     "text": [
      "Threes: \n",
      " rmse: 0.202 \n",
      " abs: 0.111 \n",
      " \n",
      " Sevens: \n",
      " rmse: 0.302 \n",
      " abs: 0.159 \n"
     ]
    }
   ],
   "source": [
    "rmse_dist_3 = rmse(mean3,test_3 )\n",
    "abs_dist_3 = abse(mean3,test_3)\n",
    "\n",
    "rmse_dist_7 = rmse(mean7,test_3 )\n",
    "abs_dist_7 = abse(mean7,test_3)\n",
    "\n",
    "\n",
    "print(f\"Threes: \\n rmse: {rmse_dist_3:.3f} \\n abs: {abs_dist_3:.3f} \\n \\n Sevens: \\n rmse: {rmse_dist_7:.3f} \\n abs: {abs_dist_7:.3f} \")"
   ]
  },
  {
   "cell_type": "code",
   "execution_count": 84,
   "id": "648d8788",
   "metadata": {},
   "outputs": [],
   "source": [
    "# The 3's are futher away form the 7's so the baseline will work to differentiate 3's and 7's"
   ]
  },
  {
   "cell_type": "code",
   "execution_count": 10,
   "id": "c2e1994e",
   "metadata": {},
   "outputs": [],
   "source": [
    "# Grab the Validation set \n",
    "\n",
    "valid_7 = torch.stack([tensor(Image.open(o)) for o in (path/'valid'/'7').ls().sorted()])\n",
    "valid_3 = torch.stack([tensor(Image.open(o)) for o in (path/'valid'/'3').ls().sorted()])\n",
    "\n",
    "\n",
    "valid_7 = valid_7.float()/255\n",
    "valid_3 = valid_3.float()/255"
   ]
  },
  {
   "cell_type": "code",
   "execution_count": 11,
   "id": "9f9f5ed9",
   "metadata": {},
   "outputs": [],
   "source": [
    "valid_3_dist = abse(valid_3, mean3)\n",
    "valid_7_dist = abse(valid_7, mean7)"
   ]
  },
  {
   "cell_type": "code",
   "execution_count": 12,
   "id": "7d0ecb03",
   "metadata": {},
   "outputs": [
    {
     "data": {
      "text/plain": [
       "torch.Size([1010, 28, 28])"
      ]
     },
     "execution_count": 12,
     "metadata": {},
     "output_type": "execute_result"
    }
   ],
   "source": [
    "valid_3.shape"
   ]
  },
  {
   "cell_type": "code",
   "execution_count": 22,
   "id": "c091d93f",
   "metadata": {},
   "outputs": [],
   "source": [
    "def is_3(x):\n",
    "    return abse(x, mean3) < abse(x, mean7)"
   ]
  },
  {
   "cell_type": "code",
   "execution_count": 29,
   "id": "4c83c676",
   "metadata": {},
   "outputs": [],
   "source": [
    "outcomes3 = is_3(valid_3)\n",
    "outcomes7 = is_3(valid_7)"
   ]
  },
  {
   "cell_type": "code",
   "execution_count": 36,
   "id": "a18c447f",
   "metadata": {},
   "outputs": [],
   "source": [
    "accuracy3 = outcomes3.float().mean()\n",
    "accuracy7 = (1- outcomes7.float().mean())"
   ]
  },
  {
   "cell_type": "code",
   "execution_count": 38,
   "id": "16101ad8",
   "metadata": {},
   "outputs": [
    {
     "data": {
      "text/plain": [
       "tensor(0.9511)"
      ]
     },
     "execution_count": 38,
     "metadata": {},
     "output_type": "execute_result"
    }
   ],
   "source": [
    "(accuracy3+accuracy7)/2"
   ]
  },
  {
   "cell_type": "code",
   "execution_count": 69,
   "id": "8c107a9e",
   "metadata": {},
   "outputs": [],
   "source": [
    "## Implement gradients\n",
    "\n",
    "def para(x): return (x**2).sum()\n",
    "\n",
    "xt = tensor([4.,6.,5.]).requires_grad_()\n",
    "yt = para(xt)\n",
    "yt.backward()"
   ]
  },
  {
   "cell_type": "code",
   "execution_count": 71,
   "id": "6a947c08",
   "metadata": {},
   "outputs": [
    {
     "data": {
      "text/plain": [
       "tensor([ 8., 12., 10.])"
      ]
     },
     "execution_count": 71,
     "metadata": {},
     "output_type": "execute_result"
    }
   ],
   "source": [
    "xt.grad"
   ]
  },
  {
   "cell_type": "code",
   "execution_count": 95,
   "id": "92b8dfd0",
   "metadata": {
    "scrolled": true
   },
   "outputs": [],
   "source": [
    "#  Actually creating the model  \n",
    "# 1's for threes and 0's for sevens\n",
    "def init_params(size, std=1.0):\n",
    "    return (torch.randn(size)*std).requires_grad_()\n",
    "\n",
    "train_x = torch.cat([stacked_threes, stacked_seven]).view(-1, 28*28)\n",
    "train_y = tensor([1]*len(threes) + [0]*len(sevens)).unsqueeze(1)\n",
    "train_dataset = list(zip(train_x, train_y))\n",
    "\n",
    "valid_x = torch.cat([valid_3, valid_7]).view(-1, 28*28)\n",
    "valid_y = tensor([1]*len(valid_3)+[0]*len(valid_7)).unsqueeze(1)\n",
    "valid_dataset = list(zip(valid_x, valid_y))"
   ]
  },
  {
   "cell_type": "code",
   "execution_count": 98,
   "id": "3454f4b2",
   "metadata": {},
   "outputs": [
    {
     "data": {
      "text/plain": [
       "torch.Size([784, 1])"
      ]
     },
     "execution_count": 98,
     "metadata": {},
     "output_type": "execute_result"
    }
   ],
   "source": [
    "# Init the weights, Need a weight for every pixel\n",
    "weights = init_params((28*28,1))\n",
    "weights.shape"
   ]
  },
  {
   "cell_type": "code",
   "execution_count": 99,
   "id": "3f2e7e3e",
   "metadata": {},
   "outputs": [
    {
     "data": {
      "text/plain": [
       "tensor([0.3215], requires_grad=True)"
      ]
     },
     "execution_count": 99,
     "metadata": {},
     "output_type": "execute_result"
    }
   ],
   "source": [
    "# intit the bias y= m*x +b -> NN's use: w*x + b\n",
    "# Bias is the same for every neuron\n",
    "\n",
    "bias = init_params(1)\n",
    "bias"
   ]
  },
  {
   "cell_type": "code",
   "execution_count": 117,
   "id": "1cb456b9",
   "metadata": {},
   "outputs": [
    {
     "data": {
      "text/plain": [
       "tensor([7.3167], grad_fn=<AddBackward0>)"
      ]
     },
     "execution_count": 117,
     "metadata": {},
     "output_type": "execute_result"
    }
   ],
   "source": [
    "# @ performs matrix multiplication. If we did not use it here we could do train_x[0]* weights.T\n",
    "pred = train_x[0]@weights +bias\n",
    "pred"
   ]
  },
  {
   "cell_type": "code",
   "execution_count": 118,
   "id": "8fce3968",
   "metadata": {},
   "outputs": [
    {
     "data": {
      "text/plain": [
       "torch.Size([12396, 1])"
      ]
     },
     "execution_count": 118,
     "metadata": {},
     "output_type": "execute_result"
    }
   ],
   "source": [
    "# Implementing linear1: Mat mul baby\n",
    "\n",
    "def linear1(x, weights):\n",
    "    return x @ weights + bias\n",
    "\n",
    "first_pass = linear1(train_x, weights)\n",
    "first_pass.shape"
   ]
  },
  {
   "cell_type": "code",
   "execution_count": 127,
   "id": "8375fe17",
   "metadata": {},
   "outputs": [
    {
     "data": {
      "text/plain": [
       "0.5596160292625427"
      ]
     },
     "execution_count": 127,
     "metadata": {},
     "output_type": "execute_result"
    }
   ],
   "source": [
    "corrects = (first_pass>0.0).float() == train_y\n",
    "corrects.float().mean().item()"
   ]
  },
  {
   "cell_type": "code",
   "execution_count": 129,
   "id": "8d1e5cc8",
   "metadata": {},
   "outputs": [
    {
     "data": {
      "text/plain": [
       "0.5596160292625427"
      ]
     },
     "execution_count": 129,
     "metadata": {},
     "output_type": "execute_result"
    }
   ],
   "source": [
    "# Let's see what happens when we nudge on of the weights\n",
    "with torch.no_grad():\n",
    "    weights[0] *= 1.0001\n",
    "nudge_pass = linear1(train_x, weights)\n",
    "corrects = (nudge_pass>0.0).float() == train_y\n",
    "corrects.float().mean().item()"
   ]
  },
  {
   "cell_type": "code",
   "execution_count": 15,
   "id": "b763fe96",
   "metadata": {},
   "outputs": [
    {
     "data": {
      "text/plain": [
       "tensor(0.2333)"
      ]
     },
     "execution_count": 15,
     "metadata": {},
     "output_type": "execute_result"
    }
   ],
   "source": [
    "targets = tensor([1,0,1])\n",
    "prds = tensor([0.9,0.4,0.8])\n",
    "\n",
    "torch.where(targets==1, 1-prds, prds).mean()"
   ]
  },
  {
   "cell_type": "code",
   "execution_count": 14,
   "id": "7f101056",
   "metadata": {},
   "outputs": [
    {
     "data": {
      "text/plain": [
       "tensor(0.4333)"
      ]
     },
     "execution_count": 14,
     "metadata": {},
     "output_type": "execute_result"
    }
   ],
   "source": [
    "def mnist_loss(trgt, prds):\n",
    "    prds = prds.sigmoid()\n",
    "    return torch.where(trgt==1, 1-prds, prds).mean()\n",
    "\n",
    "mnist_loss(targets, prds)"
   ]
  },
  {
   "cell_type": "code",
   "execution_count": 25,
   "id": "246eeab0",
   "metadata": {
    "scrolled": false
   },
   "outputs": [
    {
     "data": {
      "image/png": "[encoded data removed]",
      "text/plain": [
       "<Figure size 600x400 with 1 Axes>"
      ]
     },
     "metadata": {},
     "output_type": "display_data"
    }
   ],
   "source": [
    "plot_function(torch.sigmoid, title= \"sigmoid\", min =-4, max=4)"
   ]
  },
  {
   "cell_type": "code",
   "execution_count": 26,
   "id": "c742bc0e",
   "metadata": {},
   "outputs": [],
   "source": [
    "# Dataloader exploration\n",
    "\n",
    "coll = range(15)\n",
    "\n",
    "dls = DataLoader(coll, batch_size=5, shuffle=True)"
   ]
  },
  {
   "cell_type": "code",
   "execution_count": 29,
   "id": "db57ba8b",
   "metadata": {},
   "outputs": [
    {
     "data": {
      "text/plain": [
       "[tensor([ 3, 12,  8, 10,  2]),\n",
       " tensor([ 9,  4,  7, 14,  5]),\n",
       " tensor([ 1, 13,  0,  6, 11])]"
      ]
     },
     "execution_count": 29,
     "metadata": {},
     "output_type": "execute_result"
    }
   ],
   "source": [
    "list(dls)"
   ]
  },
  {
   "cell_type": "code",
   "execution_count": 31,
   "id": "f0255907",
   "metadata": {},
   "outputs": [],
   "source": [
    "# what about a labeled dataset?\n",
    "\n",
    "l_n = L(enumerate(string.ascii_lowercase))\n",
    "dl = DataLoader(l_n, batch_size=4, shuffle = True)"
   ]
  },
  {
   "cell_type": "code",
   "execution_count": 33,
   "id": "1bb48000",
   "metadata": {},
   "outputs": [
    {
     "data": {
      "text/plain": [
       "[(tensor([17, 18, 10, 22]), ('r', 's', 'k', 'w')),\n",
       " (tensor([ 8, 14, 20, 15]), ('i', 'o', 'u', 'p')),\n",
       " (tensor([ 9, 13, 21, 12]), ('j', 'n', 'v', 'm')),\n",
       " (tensor([ 7, 25,  6,  5]), ('h', 'z', 'g', 'f')),\n",
       " (tensor([11, 23,  1,  3]), ('l', 'x', 'b', 'd')),\n",
       " (tensor([ 0, 24, 19, 16]), ('a', 'y', 't', 'q')),\n",
       " (tensor([2, 4]), ('c', 'e'))]"
      ]
     },
     "execution_count": 33,
     "metadata": {},
     "output_type": "execute_result"
    }
   ],
   "source": [
    "list(dl)"
   ]
  },
  {
   "cell_type": "code",
   "execution_count": null,
   "id": "1dddcb1a",
   "metadata": {},
   "outputs": [],
   "source": []
  }
 ],
 "metadata": {
  "kernelspec": {
   "display_name": "Python 3 (ipykernel)",
   "language": "python",
   "name": "python3"
  },
  "language_info": {
   "codemirror_mode": {
    "name": "ipython",
    "version": 3
   },
   "file_extension": ".py",
   "mimetype": "text/x-python",
   "name": "python",
   "nbconvert_exporter": "python",
   "pygments_lexer": "ipython3",
   "version": "3.11.5"
  },
  "toc": {
   "base_numbering": 1,
   "nav_menu": {},
   "number_sections": true,
   "sideBar": true,
   "skip_h1_title": false,
   "title_cell": "Table of Contents",
   "title_sidebar": "Contents",
   "toc_cell": false,
   "toc_position": {},
   "toc_section_display": true,
   "toc_window_display": false
  }
 },
 "nbformat": 4,
 "nbformat_minor": 5
}
